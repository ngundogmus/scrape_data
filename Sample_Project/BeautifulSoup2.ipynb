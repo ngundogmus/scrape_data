{
 "cells": [
  {
   "cell_type": "code",
   "execution_count": 3,
   "metadata": {},
   "outputs": [],
   "source": [
    "import requests\n",
    "from bs4 import BeautifulSoup\n",
    "site_map = 'https://www.pngmart.com/sitemap.xml/'\n",
    "response = requests.get(site_map)\n",
    "xml = response.text\n",
    "soup = BeautifulSoup(xml,'xml')\n",
    "site_maps = []\n",
    "for loc in soup.find_all('loc'):\n",
    "    url = loc.text\n",
    "    if 'post' in url:\n",
    "        print(url)\n",
    "        site_maps.append(url)\n",
    "\n",
    "site_map_1 = site_maps[0]\n",
    "response = requests.get(site_map_1)\n",
    "soup = BeautifulSoup(response.text,'xml')\n",
    "master_list = []\n",
    "for loc in soup.find_all('loc'):\n",
    "    url = loc.text\n",
    "    master_list.append(url)\n",
    "for image_url in master_list[0:5]:\n",
    "    response    = requests.get(image_url)\n",
    "    soup        = BeautifulSoup(response.text,'html.parser')\n",
    "    png_url     = soup.find('a',{'class':'download'})['href']\n",
    "    image       = requests.get(png_url)\n",
    "    image_title = image_url.split('/')[-1]+'-'+png_url.split('/')[-1]\n",
    "    with open(image_title,'wb') as file:\n",
    "        file.write(image.content)"
   ]
  }
 ],
 "metadata": {
  "kernelspec": {
   "display_name": "Python 3.10.7 64-bit",
   "language": "python",
   "name": "python3"
  },
  "language_info": {
   "codemirror_mode": {
    "name": "ipython",
    "version": 3
   },
   "file_extension": ".py",
   "mimetype": "text/x-python",
   "name": "python",
   "nbconvert_exporter": "python",
   "pygments_lexer": "ipython3",
   "version": "3.10.7"
  },
  "orig_nbformat": 4,
  "vscode": {
   "interpreter": {
    "hash": "e593ac106456af50ce7af38f9671c411b49d6cd90f9b885e167f0f594e09038c"
   }
  }
 },
 "nbformat": 4,
 "nbformat_minor": 2
}
