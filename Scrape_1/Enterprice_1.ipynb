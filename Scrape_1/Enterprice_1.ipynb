{
 "cells": [
  {
   "cell_type": "code",
   "execution_count": 22,
   "metadata": {},
   "outputs": [],
   "source": [
    "import requests\n",
    "import re\n",
    "from bs4 import BeautifulSoup\n",
    "import numpy as np\n",
    "import pandas as pd\n",
    "\n",
    "headers = {\n",
    "    'authority': 'mab.chartbeat.com',\n",
    "    'accept': '*/*',\n",
    "    'accept-language': 'tr-TR,tr;q=0.9,en-US;q=0.8,en;q=0.7',\n",
    "    'origin': 'https://www.prnewswire.com',\n",
    "    'referer': 'https://www.prnewswire.com/news-releases/news-releases-list/?page=1?month=10&day=1&year=2022&hour=00',\n",
    "    'sec-ch-ua': '\"Google Chrome\";v=\"107\", \"Chromium\";v=\"107\", \"Not=A?Brand\";v=\"24\"',\n",
    "    'sec-ch-ua-mobile': '?0',\n",
    "    'sec-ch-ua-platform': '\"Windows\"',\n",
    "    'sec-fetch-dest': 'empty',\n",
    "    'sec-fetch-mode': 'cors',\n",
    "    'sec-fetch-site': 'cross-site',\n",
    "    'user-agent': 'Mozilla/5.0 (Windows NT 10.0; Win64; x64) AppleWebKit/537.36 (KHTML, like Gecko) Chrome/107.0.0.0 Safari/537.36',\n",
    "}"
   ]
  },
  {
   "cell_type": "code",
   "execution_count": 33,
   "metadata": {},
   "outputs": [
    {
     "name": "stdout",
     "output_type": "stream",
     "text": [
      "Page: 1 --NewsNumber: 37 Match 3\n",
      "Page: 2 --NewsNumber: 35 Match 0\n",
      "Page: 3 --NewsNumber: 38 Match 1\n",
      "Page: 4 --NewsNumber: 45 Match 2\n",
      "Page: 5 --NewsNumber: 44 Match 0\n",
      "Page: 6 --NewsNumber: 37 Match 1\n",
      "Page: 7 --NewsNumber: 39 Match 1\n",
      "Page: 8 --NewsNumber: 37 Match 2\n",
      "Page: 9 --NewsNumber: 35 Match 4\n",
      "Page: 10 --NewsNumber: 43 Match 3\n",
      "Page: 11 --NewsNumber: 39 Match 7\n",
      "Page: 12 --NewsNumber: 43 Match 8\n",
      "Page: 13 --NewsNumber: 39 Match 3\n",
      "Page: 14 --NewsNumber: 39 Match 7\n",
      "Page: 15 --NewsNumber: 38 Match 4\n",
      "Page: 16 --NewsNumber: 46 Match 3\n",
      "Page: 17 --NewsNumber: 42 Match 7\n",
      "Page: 18 --NewsNumber: 35 Match 8\n",
      "Page: 19 --NewsNumber: 38 Match 6\n"
     ]
    }
   ],
   "source": [
    "start =1\n",
    "end = 20\n",
    "master_list = []\n",
    "for page in range(start,end):\n",
    "    response = requests.get('https://www.prnewswire.com/news-releases/news-releases-list/?page='+str(page)+'&pagesize=50&month=10&day=12&year=2022')\n",
    "    #response = requests.get('https://www.prnewswire.com/news-releases/news-releases-list/?page=1&pagesize=50&month=10&day='+str(day)+'&year=2022',headers=headers)\n",
    "    #response = requests.get('https://www.prnewswire.com/news-releases/news-releases-list/?page='+str(page)+'', headers=headers)\n",
    "    \n",
    "    html = response.text\n",
    "    soup = BeautifulSoup(html,'lxml')\n",
    "    news = soup.find_all(\"div\",{\"class\": \"col-sm-8 col-lg-9 pull-left card\"})\n",
    "    #date = soup.find(\"input\",{\"id\":\"date\"}).attrs.get(\"value\", \"\")\n",
    "    newsNumber = len(news)\n",
    "    matchNumber = 0\n",
    "      \n",
    "    for i in range(newsNumber):\n",
    "        data_dict = {}\n",
    "        parag = news[i].find('p').text\n",
    "        regex = 'Nasdaq\\W+\\w+|NASDAQ\\W+\\w+'\n",
    "        match = re.findall(regex,parag)\n",
    "        if len(match) > 0:\n",
    "            matchNumber = matchNumber + 1\n",
    "            #data_dict['Date']   = date\n",
    "            data_dict['Time']   = news[i].find('small').text\n",
    "            data_dict['Nasdaq'] = match[0].strip()\n",
    "            data_dict['Title']  = news[i].find('h3').text.split('\\n')[2]\n",
    "            #data_dict['content']  = news[i].find('p').text\n",
    "            master_list.append(data_dict) \n",
    "\n",
    "    print(\"Page:\",page,\"--NewsNumber:\",newsNumber,\"Match\",matchNumber)     \n",
    "    \n",
    "df = pd.DataFrame(master_list)\n",
    "df.to_csv('nasdaq-day31-'+str(start)+'-'+str(end)+'.csv',index = False)\n"
   ]
  },
  {
   "cell_type": "code",
   "execution_count": null,
   "metadata": {},
   "outputs": [],
   "source": []
  },
  {
   "cell_type": "code",
   "execution_count": null,
   "metadata": {},
   "outputs": [],
   "source": []
  }
 ],
 "metadata": {
  "kernelspec": {
   "display_name": "Python 3.10.7 64-bit",
   "language": "python",
   "name": "python3"
  },
  "language_info": {
   "codemirror_mode": {
    "name": "ipython",
    "version": 3
   },
   "file_extension": ".py",
   "mimetype": "text/x-python",
   "name": "python",
   "nbconvert_exporter": "python",
   "pygments_lexer": "ipython3",
   "version": "3.10.7"
  },
  "orig_nbformat": 4,
  "vscode": {
   "interpreter": {
    "hash": "e593ac106456af50ce7af38f9671c411b49d6cd90f9b885e167f0f594e09038c"
   }
  }
 },
 "nbformat": 4,
 "nbformat_minor": 2
}
