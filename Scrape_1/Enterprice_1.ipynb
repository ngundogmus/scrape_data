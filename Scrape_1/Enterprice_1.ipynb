{
 "cells": [
  {
   "cell_type": "code",
   "execution_count": 1,
   "metadata": {},
   "outputs": [],
   "source": [
    "import requests\n",
    "import re\n",
    "from bs4 import BeautifulSoup\n",
    "import numpy as np\n",
    "import pandas as pd\n",
    "\n",
    "headers = {'User-Agent':'Mozilla/5.0 (Windows NT 10.0; Win64; x64) AppleWebKit/537.36 (KHTML, like Gecko) Chrome/107.0.0.0 Safari/537.36'} "
   ]
  },
  {
   "cell_type": "code",
   "execution_count": 3,
   "metadata": {},
   "outputs": [
    {
     "name": "stdout",
     "output_type": "stream",
     "text": [
      "Page: 1 --NewsNumber: 73 Match 1\n",
      "Page: 2 --NewsNumber: 79 Match 3\n",
      "Page: 3 --NewsNumber: 76 Match 3\n",
      "Page: 4 --NewsNumber: 83 Match 4\n"
     ]
    }
   ],
   "source": [
    "start =1\n",
    "end = 5\n",
    "master_list = []\n",
    "for page in range(start,end):\n",
    "    response = requests.get('https://www.prnewswire.com/news-releases/news-releases-list/?page='+str(page)+'&pagesize=100&month=10&day=1&year=2022')\n",
    "    #response = requests.get('https://www.prnewswire.com/news-releases/news-releases-list/?page=1&pagesize=50&month=10&day='+str(day)+'&year=2022',headers=headers)\n",
    "    #response = requests.get('https://www.prnewswire.com/news-releases/news-releases-list/?page='+str(page)+'', headers=headers)\n",
    "    \n",
    "    html = response.text\n",
    "    soup = BeautifulSoup(html,'lxml')\n",
    "    news = soup.find_all(\"div\",{\"class\": \"col-sm-8 col-lg-9 pull-left card\"})\n",
    "    #date = soup.find(\"input\",{\"id\":\"date\"}).attrs.get(\"value\", \"\")\n",
    "    newsNumber = len(news)\n",
    "    matchNumber = 0\n",
    "      \n",
    "    for i in range(newsNumber):\n",
    "        data_dict = {}\n",
    "        parag = news[i].find('p').text\n",
    "        regex = 'Nasdaq\\W+\\w+|NASDAQ\\W+\\w+'\n",
    "        match = re.findall(regex,parag)\n",
    "        if len(match) > 0:\n",
    "            matchNumber = matchNumber + 1\n",
    "            #data_dict['Date']   = date\n",
    "            data_dict['Time']   = news[i].find('small').text\n",
    "            data_dict['Nasdaq'] = match[0].strip()\n",
    "            data_dict['Title']  = news[i].find('h3').text.split('\\n')[2]\n",
    "            #data_dict['content']  = news[i].find('p').text\n",
    "            master_list.append(data_dict) \n",
    "\n",
    "    print(\"Page:\",page,\"--NewsNumber:\",newsNumber,\"Match\",matchNumber)     \n",
    "    \n",
    "df = pd.DataFrame(master_list)\n",
    "df.to_csv('nasdaq-p-'+str(start)+'-'+str(end)+'.csv',index = False)\n"
   ]
  },
  {
   "cell_type": "code",
   "execution_count": null,
   "metadata": {},
   "outputs": [],
   "source": []
  },
  {
   "cell_type": "code",
   "execution_count": null,
   "metadata": {},
   "outputs": [],
   "source": []
  }
 ],
 "metadata": {
  "kernelspec": {
   "display_name": "Python 3.10.7 64-bit",
   "language": "python",
   "name": "python3"
  },
  "language_info": {
   "codemirror_mode": {
    "name": "ipython",
    "version": 3
   },
   "file_extension": ".py",
   "mimetype": "text/x-python",
   "name": "python",
   "nbconvert_exporter": "python",
   "pygments_lexer": "ipython3",
   "version": "3.10.7"
  },
  "orig_nbformat": 4,
  "vscode": {
   "interpreter": {
    "hash": "e593ac106456af50ce7af38f9671c411b49d6cd90f9b885e167f0f594e09038c"
   }
  }
 },
 "nbformat": 4,
 "nbformat_minor": 2
}
