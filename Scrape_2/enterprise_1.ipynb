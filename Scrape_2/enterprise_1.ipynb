{
 "cells": [
  {
   "cell_type": "code",
   "execution_count": 4,
   "metadata": {},
   "outputs": [],
   "source": [
    "import requests\n",
    "from bs4 import BeautifulSoup\n",
    "\n",
    "headers = {'User-Agent':'Mozilla/5.0 (Windows NT 10.0; Win64; x64) AppleWebKit/537.36 (KHTML, like Gecko) Chrome/107.0.0.0 Safari/537.36'} \n",
    "url = 'https://cosmeticdentistdir.com/'\n",
    "r = requests.get(url,headers)\n",
    "soup = BeautifulSoup(r.text, 'html.parser')"
   ]
  },
  {
   "cell_type": "code",
   "execution_count": 5,
   "metadata": {},
   "outputs": [
    {
     "name": "stdout",
     "output_type": "stream",
     "text": [
      "41\n",
      "8\n"
     ]
    }
   ],
   "source": [
    "content = soup.find('div',{'id':'content'})\n",
    "us_states = content.find_all('table')[0].find_all('h3')\n",
    "ca_states = content.find_all('table')[1].find_all('h3')\n",
    "print(len(us_states))\n",
    "print(len(ca_states))"
   ]
  },
  {
   "cell_type": "code",
   "execution_count": 7,
   "metadata": {},
   "outputs": [
    {
     "name": "stdout",
     "output_type": "stream",
     "text": [
      "203\n"
     ]
    }
   ],
   "source": [
    "us_city_list = []\n",
    "us_cities = content.find_all('table')[0].find_all('a')\n",
    "for item in us_cities:\n",
    "    city = {\n",
    "        'city' : item.text.strip(),\n",
    "        'url'  : item['href'],\n",
    "    }    \n",
    "    us_city_list.append(city)\n",
    "print(len(us_city_list))"
   ]
  },
  {
   "cell_type": "code",
   "execution_count": 10,
   "metadata": {},
   "outputs": [],
   "source": [
    "url = \"https://cosmeticdentistdir.com/cosmetic-dentist-huntsville.html\"\n",
    "r = requests.get(url,headers)\n",
    "soup = BeautifulSoup(r.text, 'html.parser')\n",
    "content = soup.find('div',{'id':'content'})\n",
    "us_cosmetic_dentist = []\n",
    "cosmetic_dentists = content.find_all('p')\n",
    "for item in cosmetic_dentists:\n",
    "    dentist = {\n",
    "        'Business Name' : item.find('a').text,\n",
    "        'Web Site' : item.find('a')['href'],\n",
    "        'Location' : item.find_all('strong')[0].next.next.strip(),\n",
    "        'Phone'    : item.find_all('strong')[1].next.next.strip(),\n",
    "    }\n",
    "    print(dentist)"
   ]
  }
 ],
 "metadata": {
  "kernelspec": {
   "display_name": "Python 3.10.7 64-bit",
   "language": "python",
   "name": "python3"
  },
  "language_info": {
   "codemirror_mode": {
    "name": "ipython",
    "version": 3
   },
   "file_extension": ".py",
   "mimetype": "text/x-python",
   "name": "python",
   "nbconvert_exporter": "python",
   "pygments_lexer": "ipython3",
   "version": "3.10.7"
  },
  "orig_nbformat": 4,
  "vscode": {
   "interpreter": {
    "hash": "e593ac106456af50ce7af38f9671c411b49d6cd90f9b885e167f0f594e09038c"
   }
  }
 },
 "nbformat": 4,
 "nbformat_minor": 2
}
